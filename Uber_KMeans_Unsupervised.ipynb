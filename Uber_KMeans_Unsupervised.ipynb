{
  "nbformat": 4,
  "nbformat_minor": 0,
  "metadata": {
    "colab": {
      "name": "Uber_KMeans_Unsupervised.ipynb",
      "provenance": [],
      "authorship_tag": "ABX9TyPdm9nQVAjjylA+vNWLGUIl",
      "include_colab_link": true
    },
    "kernelspec": {
      "name": "python3",
      "display_name": "Python 3"
    },
    "language_info": {
      "name": "python"
    }
  },
  "cells": [
    {
      "cell_type": "markdown",
      "metadata": {
        "id": "view-in-github",
        "colab_type": "text"
      },
      "source": [
        "<a href=\"https://colab.research.google.com/github/shashwat-2077/UBER_Unsupervised_Clustering_Algo/blob/main/Uber_KMeans_Unsupervised.ipynb\" target=\"_parent\"><img src=\"https://colab.research.google.com/assets/colab-badge.svg\" alt=\"Open In Colab\"/></a>"
      ]
    },
    {
      "cell_type": "code",
      "metadata": {
        "id": "nhS7V0C70s9k"
      },
      "source": [
        "import numpy as np\n",
        "import sklearn.cluster"
      ],
      "execution_count": null,
      "outputs": []
    },
    {
      "cell_type": "code",
      "metadata": {
        "id": "QAJ9TwVK02aV"
      },
      "source": [
        "data = np.arange(0,100)"
      ],
      "execution_count": null,
      "outputs": []
    },
    {
      "cell_type": "code",
      "metadata": {
        "id": "jyhUEs9c02YO"
      },
      "source": [
        "data = list(zip(data, data)) "
      ],
      "execution_count": null,
      "outputs": []
    },
    {
      "cell_type": "code",
      "metadata": {
        "id": "XTlhvt-e02WG"
      },
      "source": [
        "from sklearn.cluster import KMeans"
      ],
      "execution_count": null,
      "outputs": []
    },
    {
      "cell_type": "code",
      "metadata": {
        "id": "aDWK_lF702T5"
      },
      "source": [
        "model = KMeans(n_clusters=3, init='random', max_iter=50)"
      ],
      "execution_count": null,
      "outputs": []
    },
    {
      "cell_type": "code",
      "metadata": {
        "id": "zsMpQIDW02Rl",
        "colab": {
          "base_uri": "https://localhost:8080/"
        },
        "outputId": "9611b2ad-7637-4b1e-eabd-2b0998e71bb9"
      },
      "source": [
        "model.fit(data)"
      ],
      "execution_count": null,
      "outputs": [
        {
          "output_type": "execute_result",
          "data": {
            "text/plain": [
              "KMeans(algorithm='auto', copy_x=True, init='random', max_iter=50, n_clusters=3,\n",
              "       n_init=10, n_jobs=None, precompute_distances='auto', random_state=None,\n",
              "       tol=0.0001, verbose=0)"
            ]
          },
          "metadata": {
            "tags": []
          },
          "execution_count": 6
        }
      ]
    },
    {
      "cell_type": "code",
      "metadata": {
        "id": "HSajBSiI02PY",
        "colab": {
          "base_uri": "https://localhost:8080/"
        },
        "outputId": "a824d2f1-3b38-4a37-d9f9-7c2b7e5e9ada"
      },
      "source": [
        "model.cluster_centers_"
      ],
      "execution_count": null,
      "outputs": [
        {
          "output_type": "execute_result",
          "data": {
            "text/plain": [
              "array([[83. , 83. ],\n",
              "       [50. , 50. ],\n",
              "       [16.5, 16.5]])"
            ]
          },
          "metadata": {
            "tags": []
          },
          "execution_count": 7
        }
      ]
    },
    {
      "cell_type": "markdown",
      "metadata": {
        "id": "hkoa6o8j09Oh"
      },
      "source": [
        "# Importing required libraries"
      ]
    },
    {
      "cell_type": "code",
      "metadata": {
        "id": "BJNu22Gg02NG"
      },
      "source": [
        "import pandas as pd\n",
        "import matplotlib.pyplot as plt\n",
        "import seaborn as sns"
      ],
      "execution_count": null,
      "outputs": []
    },
    {
      "cell_type": "code",
      "metadata": {
        "id": "r4WYT3BV02Ky",
        "colab": {
          "base_uri": "https://localhost:8080/"
        },
        "outputId": "859c5180-d5cc-4a5f-a6cd-fe7b3e9cafe7"
      },
      "source": [
        "from google.colab import drive\n",
        "drive.mount('/content/drive')"
      ],
      "execution_count": null,
      "outputs": [
        {
          "output_type": "stream",
          "text": [
            "Mounted at /content/drive\n"
          ],
          "name": "stdout"
        }
      ]
    },
    {
      "cell_type": "markdown",
      "metadata": {
        "id": "b87ZpV1L1Cn_"
      },
      "source": [
        "# Creating dataframes"
      ]
    },
    {
      "cell_type": "code",
      "metadata": {
        "id": "h_YDUz_d02B2"
      },
      "source": [
        "DATA_FOLDER = '/content/drive/MyDrive/Code/Uber/Dataset/'"
      ],
      "execution_count": null,
      "outputs": []
    },
    {
      "cell_type": "code",
      "metadata": {
        "id": "WOGp7iR91FPl"
      },
      "source": [
        "apr14 = pd.read_csv(DATA_FOLDER+'uber-raw-data-apr14.csv')\n",
        "may14 = pd.read_csv(DATA_FOLDER+'uber-raw-data-may14.csv')\n",
        "jun14 = pd.read_csv(DATA_FOLDER+'uber-raw-data-jun14.csv')\n",
        "jul14 = pd.read_csv(DATA_FOLDER+'uber-raw-data-jul14.csv')\n",
        "aug14 = pd.read_csv(DATA_FOLDER+'uber-raw-data-aug14.csv')\n",
        "sep14 = pd.read_csv(DATA_FOLDER+'uber-raw-data-sep14.csv')"
      ],
      "execution_count": null,
      "outputs": []
    },
    {
      "cell_type": "code",
      "metadata": {
        "id": "LjvUqkEw1FIz"
      },
      "source": [
        "merged_df = pd.concat([apr14, may14, jun14, jul14, aug14, sep14])\n",
        "merged_df"
      ],
      "execution_count": null,
      "outputs": []
    },
    {
      "cell_type": "markdown",
      "metadata": {
        "id": "lKm2BiHw1H4t"
      },
      "source": [
        "# String to datetime conversion"
      ]
    },
    {
      "cell_type": "code",
      "metadata": {
        "id": "K89M-_Sd1FAy"
      },
      "source": [
        "apr14['Date/Time'] = pd.to_datetime(apr14['Date/Time'], format='%m/%d/%Y %H:%M:%S')\n",
        "may14['Date/Time'] = pd.to_datetime(may14['Date/Time'], format='%m/%d/%Y %H:%M:%S')\n",
        "jun14['Date/Time'] = pd.to_datetime(jun14['Date/Time'], format='%m/%d/%Y %H:%M:%S')\n",
        "jul14['Date/Time'] = pd.to_datetime(jul14['Date/Time'], format='%m/%d/%Y %H:%M:%S')\n",
        "aug14['Date/Time'] = pd.to_datetime(aug14['Date/Time'], format='%m/%d/%Y %H:%M:%S')\n",
        "sep14['Date/Time'] = pd.to_datetime(sep14['Date/Time'], format='%m/%d/%Y %H:%M:%S')\n",
        "merged_df['Date/Time'] = pd.to_datetime(merged_df['Date/Time'], format='%m/%d/%Y %H:%M:%S')"
      ],
      "execution_count": null,
      "outputs": []
    },
    {
      "cell_type": "code",
      "metadata": {
        "id": "ecjpE2bg1E-g"
      },
      "source": [
        "dfs = [apr14, may14, jun14, jul14, aug14, sep14, merged_df]\n",
        "current_df = dfs[0]"
      ],
      "execution_count": null,
      "outputs": []
    },
    {
      "cell_type": "markdown",
      "metadata": {
        "id": "0Qi7h_6e1K_D"
      },
      "source": [
        "# Rideshare histogram"
      ]
    },
    {
      "cell_type": "code",
      "metadata": {
        "id": "bYz__SD61E8I"
      },
      "source": [
        "current_df['Time'] = current_df['Date/Time'].dt.time.apply(lambda x: int(x.strftime('%H%M%S')))\n",
        "current_df"
      ],
      "execution_count": null,
      "outputs": []
    },
    {
      "cell_type": "code",
      "metadata": {
        "id": "whPX7aid1E5y"
      },
      "source": [
        "sns.histplot(current_df['Time'])"
      ],
      "execution_count": null,
      "outputs": []
    },
    {
      "cell_type": "markdown",
      "metadata": {
        "id": "qZmpL41Q1PXV"
      },
      "source": [
        "# Filtering morning and evening rides"
      ]
    },
    {
      "cell_type": "code",
      "metadata": {
        "id": "Kq30DAdr1E3c"
      },
      "source": [
        "morning_df_idx = (current_df['Time'] > 50000) & (current_df['Time'] < 110000)\n",
        "morning_df = current_df[morning_df_idx]\n",
        "evening_df_idx = (current_df['Time'] > 150000) & (current_df['Time'] < 220000)\n",
        "evening_df = current_df[evening_df_idx]"
      ],
      "execution_count": null,
      "outputs": []
    },
    {
      "cell_type": "code",
      "metadata": {
        "id": "t8BuY_6Q1QA5"
      },
      "source": [
        "morning_df"
      ],
      "execution_count": null,
      "outputs": []
    },
    {
      "cell_type": "code",
      "metadata": {
        "id": "hE8_Lcnp1P-i"
      },
      "source": [
        "evening_df"
      ],
      "execution_count": null,
      "outputs": []
    },
    {
      "cell_type": "code",
      "metadata": {
        "id": "Wdi3ukLb1P7Q"
      },
      "source": [
        "morning_coordinates = morning_df[['Lat','Lon']].sample(10000,random_state = 10).values\n",
        "evening_coordinates = evening_df[['Lat','Lon']].sample(10000,random_state = 10).values"
      ],
      "execution_count": null,
      "outputs": []
    },
    {
      "cell_type": "markdown",
      "metadata": {
        "id": "NmH99dH71WC1"
      },
      "source": [
        "# Installing folium\n",
        "for plotting coordinates"
      ]
    },
    {
      "cell_type": "code",
      "metadata": {
        "id": "lHGz0-dO1P4w"
      },
      "source": [
        " !pip install folium"
      ],
      "execution_count": null,
      "outputs": []
    },
    {
      "cell_type": "code",
      "metadata": {
        "id": "JOjFu19V1Ypt"
      },
      "source": [
        "import folium"
      ],
      "execution_count": null,
      "outputs": []
    },
    {
      "cell_type": "markdown",
      "metadata": {
        "id": "evGqPeUk1cZW"
      },
      "source": [
        "# Plotting morning rides on map"
      ]
    },
    {
      "cell_type": "code",
      "metadata": {
        "id": "C6zu292D1d94"
      },
      "source": [
        "morning_map = folium.Map(location=[40.79658011772687, -73.87341741832425], zoom_start = 12, tiles='Stamen Toner')\n",
        "for coordinate in morning_coordinates:\n",
        "  folium.CircleMarker(radius=1,location=coordinate,fill=True).add_to(morning_map)\n",
        "morning_map"
      ],
      "execution_count": null,
      "outputs": []
    },
    {
      "cell_type": "markdown",
      "metadata": {
        "id": "rO_-NYvS1g4X"
      },
      "source": [
        "# Plotting evening rides on map"
      ]
    },
    {
      "cell_type": "code",
      "metadata": {
        "id": "cDYQsRwV1YnR"
      },
      "source": [
        "evening_map = folium.Map(location=[40.79658011772687, -73.87341741832425], zoom_start = 12, tiles='Stamen Toner')\n",
        "for coordinate in evening_coordinates:\n",
        "  folium.CircleMarker(radius=1,location=coordinate,color=\"#FF0000\",fill=True).add_to(evening_map)\n",
        "evening_map"
      ],
      "execution_count": null,
      "outputs": []
    },
    {
      "cell_type": "markdown",
      "metadata": {
        "id": "zc4F4ZBc1kGH"
      },
      "source": [
        "# Importing KMeans"
      ]
    },
    {
      "cell_type": "code",
      "metadata": {
        "id": "-kJ2y-zg1Yk-"
      },
      "source": [
        "from sklearn.cluster import KMeans\n",
        "import numpy as np"
      ],
      "execution_count": null,
      "outputs": []
    },
    {
      "cell_type": "markdown",
      "metadata": {
        "id": "KZN1vhVn1mho"
      },
      "source": [
        "# Finding clusters"
      ]
    },
    {
      "cell_type": "code",
      "metadata": {
        "id": "7wp7tT8M1Yiq"
      },
      "source": [
        "n_clusters = 6\n",
        "model = KMeans(n_clusters=n_clusters, init='random', max_iter=300)\n",
        "model.fit(morning_df[['Lat','Lon']])"
      ],
      "execution_count": null,
      "outputs": []
    },
    {
      "cell_type": "code",
      "metadata": {
        "id": "_pm7HsDy1o9t"
      },
      "source": [
        "morning_centroids = model.cluster_centers_\n",
        "morning_centroids"
      ],
      "execution_count": null,
      "outputs": []
    },
    {
      "cell_type": "code",
      "metadata": {
        "id": "P0_y2oMU1o8J"
      },
      "source": [
        "for i, coordinate in enumerate(morning_centroids):\n",
        "    folium.Marker(coordinate, popup='Centroid {}'.format(i+1), icon=folium.Icon(color='red')).add_to(morning_map)\n",
        "morning_map"
      ],
      "execution_count": null,
      "outputs": []
    },
    {
      "cell_type": "markdown",
      "metadata": {
        "id": "kPamzaDY1ral"
      },
      "source": [
        "## for evening"
      ]
    },
    {
      "cell_type": "code",
      "metadata": {
        "id": "oXOMZIlE1o5t"
      },
      "source": [
        "n_clusters = 6\n",
        "model = KMeans(n_clusters=n_clusters, init='random', max_iter=300)\n",
        "model.fit(evening_df[['Lat','Lon']])"
      ],
      "execution_count": null,
      "outputs": []
    },
    {
      "cell_type": "code",
      "metadata": {
        "id": "jLTcMceU1o3-"
      },
      "source": [
        "evening_centroids = model.cluster_centers_\n",
        "evening_centroids"
      ],
      "execution_count": null,
      "outputs": []
    },
    {
      "cell_type": "code",
      "metadata": {
        "id": "cOlgRl_U1o0_"
      },
      "source": [
        "for i, coordinate in enumerate(evening_centroids):\n",
        "    folium.Marker(coordinate, popup='Centroid {}'.format(i+1), icon=folium.Icon(color='blue')).add_to(evening_map)\n",
        "evening_map"
      ],
      "execution_count": null,
      "outputs": []
    },
    {
      "cell_type": "markdown",
      "metadata": {
        "id": "9Boe_3Ln1v9j"
      },
      "source": [
        "# Finding clusters in whole selected dataframe"
      ]
    },
    {
      "cell_type": "code",
      "metadata": {
        "id": "ytjkKEvT1ox0"
      },
      "source": [
        "n_clusters = 8\n",
        "model = KMeans(n_clusters=n_clusters, init='random', max_iter=300)\n",
        "model.fit(current_df[['Lat','Lon']])"
      ],
      "execution_count": null,
      "outputs": []
    },
    {
      "cell_type": "code",
      "metadata": {
        "id": "BDOBYM3k1xto"
      },
      "source": [
        "centroids = model.cluster_centers_\n",
        "centroids"
      ],
      "execution_count": null,
      "outputs": []
    },
    {
      "cell_type": "code",
      "metadata": {
        "id": "hKrcT87p1xr0"
      },
      "source": [
        "map = folium.Map(location=[40.79658011772687, -73.87341741832425], zoom_start = 12, tiles='Stamen Toner')\n",
        "for i, coordinate in enumerate(centroids):\n",
        "    folium.Marker(coordinate, popup='Centroid {}'.format(i+1), icon=folium.Icon(color='blue')).add_to(map)\n",
        "map"
      ],
      "execution_count": null,
      "outputs": []
    },
    {
      "cell_type": "code",
      "metadata": {
        "id": "chixfky71xpc"
      },
      "source": [
        "new_ride = (40.70647056912189, -73.91116590442799)\n",
        "folium.Marker(new_ride, popup='New Rider', icon=folium.Icon(color='green')).add_to(map)\n",
        "map"
      ],
      "execution_count": null,
      "outputs": []
    },
    {
      "cell_type": "code",
      "metadata": {
        "id": "HBo3i1NS1xmE"
      },
      "source": [
        "centroid_idx = model.predict([new_ride])"
      ],
      "execution_count": null,
      "outputs": []
    },
    {
      "cell_type": "code",
      "metadata": {
        "id": "j5VtmivZ1xj3"
      },
      "source": [
        "centroids[centroid_idx]"
      ],
      "execution_count": null,
      "outputs": []
    },
    {
      "cell_type": "code",
      "metadata": {
        "id": "6tRtVEDZ1xhj"
      },
      "source": [
        "folium.Marker(centroids[centroid_idx][0], icon=folium.Icon(color='yellow')).add_to(map)\n",
        "map"
      ],
      "execution_count": null,
      "outputs": []
    },
    {
      "cell_type": "markdown",
      "metadata": {
        "id": "nSSTO7Ul16FD"
      },
      "source": [
        "# Thank You"
      ]
    },
    {
      "cell_type": "markdown",
      "metadata": {
        "id": "EE49V2GTBGEF"
      },
      "source": [
        "# Google Drive Link\n",
        "\n",
        "https://drive.google.com/drive/folders/1f1BzN1I0jogisJp3qlkTKj0dlG1Ljgiy?usp=sharing"
      ]
    }
  ]
}